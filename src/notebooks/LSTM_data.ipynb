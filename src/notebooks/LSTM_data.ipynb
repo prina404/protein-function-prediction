{
 "cells": [
  {
   "cell_type": "code",
   "id": "f5a8f2a1",
   "metadata": {
    "ExecuteTime": {
     "end_time": "2025-05-24T17:16:04.892873Z",
     "start_time": "2025-05-24T17:15:07.184134Z"
    }
   },
   "source": [
    "import numpy as np\n",
    "import pandas as pd\n",
    "from tqdm.notebook import tqdm\n",
    "import csv\n",
    "import json\n",
    "import ast\n",
    "from numpy import random\n",
    "#import os\n",
    "#from utils.config import CFG\n",
    "from src.utils.dataset_utils import *\n",
    "\n",
    "import tensorflow as tf\n",
    "from tensorflow.keras.models import Sequential\n",
    "from tensorflow.keras.layers import LSTM, Dense, Dropout, Bidirectional, BatchNormalization\n",
    "from tensorflow.keras.preprocessing.sequence import pad_sequences\n",
    "from sklearn.model_selection import train_test_split\n",
    "from sklearn.preprocessing import LabelEncoder\n",
    "from sklearn.metrics import classification_report, confusion_matrix\n",
    "from focal_loss import SparseCategoricalFocalLoss\n",
    "import matplotlib.pyplot as plt\n",
    "import seaborn as sns\n",
    "\n",
    "np.random.seed(42)\n",
    "tf.random.set_seed(42)"
   ],
   "outputs": [],
   "execution_count": 1
  },
  {
   "metadata": {
    "ExecuteTime": {
     "end_time": "2025-05-24T17:24:21.424403Z",
     "start_time": "2025-05-24T17:24:21.414016Z"
    }
   },
   "cell_type": "code",
   "source": [
    "def create_embeddings_sequences(df, df_3grams):\n",
    "    # dict with the embedding of each 3gram\n",
    "    embedding_dict = {row['words']: row[1:].tolist() for _, row in df_3grams.iterrows()}\n",
    "    # add the column with the list of the 3grams embeddings for each sequence\n",
    "    df['sequence_embeddings'] = None\n",
    "    for i, row in tqdm(df.iterrows(), total=len(df)):\n",
    "        sequence_embedding = []\n",
    "        protein_seq = row['sequence']\n",
    "\n",
    "        # Create the list of 3grams embeddings of the protein sequence\n",
    "        for j in range(len(protein_seq) - 2):\n",
    "            trigram = protein_seq[j:j + 3]\n",
    "\n",
    "            if trigram in embedding_dict:\n",
    "                embedding = embedding_dict[trigram]\n",
    "            else:\n",
    "                embedding = embedding_dict['<unk>']\n",
    "\n",
    "            sequence_embedding.append(embedding)\n",
    "\n",
    "        df.at[i, 'sequence_embeddings'] = np.array(sequence_embedding)\n",
    "\n",
    "    return df"
   ],
   "id": "d1864f1d371eb6d5",
   "outputs": [],
   "execution_count": 17
  },
  {
   "metadata": {
    "ExecuteTime": {
     "end_time": "2025-05-24T17:35:02.607146Z",
     "start_time": "2025-05-24T17:35:02.588324Z"
    }
   },
   "cell_type": "code",
   "source": [
    "def load_data(file_path_seq, file_path_meta, file_path_3grams):\n",
    "    \"\"\"\n",
    "    Load protein data from CSV and prepare it for the LSTM model.\n",
    "\n",
    "    Parameters:\n",
    "    file_path (str): Path to the CSV file containing protein data\n",
    "\n",
    "    Returns:\n",
    "    X (list): List of 3-gram embedding sequences for each protein\n",
    "    y (array): Array of encoded protein family labels\n",
    "    label_encoder: The LabelEncoder used for converting family names to integers\n",
    "    \"\"\"\n",
    "    df_final = rawdata_to_df(file_path_seq, file_path_meta)\n",
    "    df_3grams = pd.read_csv(file_path_3grams, sep='\\t')\n",
    "\n",
    "    n = 5\n",
    "    df_final = preprocess_data(df_final, n)\n",
    "    top_families = list(df_final['label'].value_counts()[:n+1].index)\n",
    "    top_families.remove('other')\n",
    "    print(top_families)\n",
    "    mask = df_final['label'].isin(top_families)\n",
    "    print(df_final.head())\n",
    "    df_topfamilies = df_final[mask]\n",
    "    df_others = df_final[~mask]\n",
    "    #df_others.reset_index(drop=True, inplace=True)\n",
    "    print(df_topfamilies.shape, df_others.shape)\n",
    "    df_others = df_others.sample(n=len(df_topfamilies), random_state=CFG['project']['seed'])\n",
    "\n",
    "    df = pd.concat([df_topfamilies, df_others], axis=0)\n",
    "    df.reset_index(drop=True, inplace=True)\n",
    "    df = create_embeddings_sequences(df, df_3grams)\n",
    "\n",
    "    # Process sequences and embeddings\n",
    "    X = []  # Will contain list of embedding matrices (one per protein)\n",
    "    y = []  # Will contain family labels\n",
    "\n",
    "    for _, row in df.iterrows():\n",
    "        embedding_matrix = row['sequence_embeddings']\n",
    "        X.append(embedding_matrix)\n",
    "        y.append(row['label'])\n",
    "\n",
    "    # Encode the family labels\n",
    "    label_encoder = LabelEncoder()\n",
    "    y_encoded = label_encoder.fit_transform(y)\n",
    "\n",
    "    print(f\"Loaded {len(X)} protein sequences\")\n",
    "    print(f\"Number of unique families: {len(label_encoder.classes_)}\")\n",
    "    print(f\"Family distribution: {np.bincount(y_encoded)}\")\n",
    "\n",
    "    return X, y_encoded, label_encoder"
   ],
   "id": "b50d6f78976fe7d7",
   "outputs": [],
   "execution_count": 50
  },
  {
   "metadata": {
    "ExecuteTime": {
     "end_time": "2025-05-24T17:35:03.049662Z",
     "start_time": "2025-05-24T17:35:03.038682Z"
    }
   },
   "cell_type": "code",
   "source": [
    "# Function to pad sequences to the same length\n",
    "def pad_embedding_sequences(X, max_length=None):\n",
    "    \"\"\"\n",
    "    Pad sequences of embeddings to the same length.\n",
    "\n",
    "    Parameters:\n",
    "    X (list): List of embedding matrices for each protein\n",
    "    max_length (int, optional): Maximum sequence length. If None, calculated from data.\n",
    "\n",
    "    Returns:\n",
    "    padded_X (array): Padded sequences\n",
    "    \"\"\"\n",
    "    if max_length is None:\n",
    "        # Calculate the sequence length at 95th percentile to avoid excessive padding\n",
    "        lengths = [len(seq) for seq in X]\n",
    "        max_length = int(np.percentile(lengths, 95))\n",
    "        print(f\"Using max_length of {max_length} (95th percentile of sequence lengths)\")\n",
    "\n",
    "    # Create a padding mask - sequences shorter than max_length will be padded with zeros\n",
    "    # Sequences longer than max_length will be truncated\n",
    "    padded_X = []\n",
    "    for seq in tqdm(X, total=len(X)):\n",
    "        # Trim\n",
    "        if len(seq) > max_length:\n",
    "            padded_X.append(seq[:max_length])\n",
    "        else:\n",
    "            # Pad with zeros\n",
    "            padding = np.zeros((max_length - len(seq), seq.shape[1]))\n",
    "            padded_X.append(np.vstack([seq, padding]))\n",
    "    \n",
    "    return np.array(padded_X)"
   ],
   "id": "b89b161238d73a76",
   "outputs": [],
   "execution_count": 51
  },
  {
   "metadata": {
    "ExecuteTime": {
     "end_time": "2025-05-24T17:35:03.405134Z",
     "start_time": "2025-05-24T17:35:03.394889Z"
    }
   },
   "cell_type": "code",
   "source": [
    "# Function to build the LSTM model\n",
    "def build_lstm_model(input_shape, num_classes):\n",
    "    \"\"\"\n",
    "    Build and compile an LSTM model for protein classification.\n",
    "\n",
    "    Parameters:\n",
    "    input_shape (tuple): Shape of input data (sequence_length, embedding_dim)\n",
    "    num_classes (int): Number of protein families to classify\n",
    "\n",
    "    Returns:\n",
    "    model: Compiled Keras model\n",
    "    \"\"\"\n",
    "    model = Sequential([\n",
    "        # Bidirectional LSTM layer to capture context from both directions\n",
    "        Bidirectional(LSTM(64, return_sequences=True), input_shape=input_shape),\n",
    "        BatchNormalization(),\n",
    "        Dropout(0.3),\n",
    "\n",
    "        # Second LSTM layer\n",
    "        Bidirectional(LSTM(32)),\n",
    "        BatchNormalization(),\n",
    "        Dropout(0.3),\n",
    "        # Dense layer\n",
    "        #Dense(64, activation='relu'),\n",
    "        #BatchNormalization(),\n",
    "        #Dropout(0,3),\n",
    "        # Output layer\n",
    "        Dense(num_classes, activation='softmax')\n",
    "    ])\n",
    "\n",
    "    # Compile the model\n",
    "    model.compile(\n",
    "        optimizer= tf.keras.optimizers.Adam(learning_rate=0.0005),\n",
    "        #loss='sparse_categorical_crossentropy',\n",
    "        loss=SparseCategoricalFocalLoss(gamma=2.0),\n",
    "        metrics=['accuracy']\n",
    "    )\n",
    "\n",
    "    return model\n",
    "\n"
   ],
   "id": "7c173340a6aca896",
   "outputs": [],
   "execution_count": 52
  },
  {
   "metadata": {
    "ExecuteTime": {
     "end_time": "2025-05-24T17:35:03.661061Z",
     "start_time": "2025-05-24T17:35:03.649954Z"
    }
   },
   "cell_type": "code",
   "source": [
    "# Function to train the model with early stopping\n",
    "def train_model(model, X_train, y_train, X_val, y_val, batch_size=32, epochs=50):\n",
    "    \"\"\"\n",
    "    Train the LSTM model with early stopping.\n",
    "\n",
    "    Parameters:\n",
    "    model: Compiled Keras model\n",
    "    X_train, y_train: Training data and labels\n",
    "    X_val, y_val: Validation data and labels\n",
    "    batch_size (int): Batch size for training\n",
    "    epochs (int): Maximum number of epochs\n",
    "\n",
    "    Returns:\n",
    "    history: Training history\n",
    "    \"\"\"\n",
    "    early_stopping = tf.keras.callbacks.EarlyStopping(\n",
    "        monitor='val_loss',\n",
    "        patience=10,\n",
    "        restore_best_weights=True\n",
    "    )\n",
    "    \n",
    "    # Reduce learning rate when validation loss plateaus\n",
    "    reduce_lr = tf.keras.callbacks.ReduceLROnPlateau(\n",
    "        monitor='val_loss',\n",
    "        factor=0.5,\n",
    "        patience=5,\n",
    "        min_lr=1e-7,\n",
    "        verbose=1\n",
    "    )\n",
    "    \n",
    "    # Model checkpoint to save best model\n",
    "    model_checkpoint = tf.keras.callbacks.ModelCheckpoint(\n",
    "        'best_model.keras',\n",
    "        monitor='val_loss',\n",
    "        save_best_only=True,\n",
    "        verbose=1\n",
    "    )\n",
    "\n",
    "    history = model.fit(\n",
    "        X_train, y_train,\n",
    "        validation_data=(X_val, y_val),\n",
    "        batch_size=batch_size,\n",
    "        epochs=epochs,\n",
    "        callbacks=[early_stopping, reduce_lr, model_checkpoint],\n",
    "        verbose=1\n",
    "    )\n",
    "\n",
    "    return history\n"
   ],
   "id": "92dfda9c57bce20b",
   "outputs": [],
   "execution_count": 53
  },
  {
   "metadata": {
    "ExecuteTime": {
     "end_time": "2025-05-24T17:35:03.868893Z",
     "start_time": "2025-05-24T17:35:03.852285Z"
    }
   },
   "cell_type": "code",
   "source": [
    "# Function to evaluate the model\n",
    "def evaluate_model(model, X_test, y_test, label_encoder):\n",
    "    \"\"\"\n",
    "    Evaluate the trained model on test data.\n",
    "\n",
    "    Parameters:\n",
    "    model: Trained Keras model\n",
    "    X_test, y_test: Test data and labels\n",
    "    label_encoder: LabelEncoder used for converting labels\n",
    "\n",
    "    Returns:\n",
    "    None (prints evaluation metrics and plots confusion matrix)\n",
    "    \"\"\"\n",
    "    # Predict on test data\n",
    "    y_pred_proba = model.predict(X_test)\n",
    "    y_pred = np.argmax(y_pred_proba, axis=1)\n",
    "\n",
    "    # Print classification report\n",
    "    print(\"\\nClassification Report:\")\n",
    "    print(classification_report(\n",
    "        y_test, y_pred,\n",
    "        target_names=label_encoder.classes_\n",
    "    ))\n",
    "\n",
    "    # Plot confusion matrix\n",
    "    plt.figure(figsize=(10, 8))\n",
    "    cm = confusion_matrix(y_test, y_pred)\n",
    "    sns.heatmap(\n",
    "        cm,\n",
    "        annot=True,\n",
    "        fmt='d',\n",
    "        cmap='Blues',\n",
    "        xticklabels=label_encoder.classes_,\n",
    "        yticklabels=label_encoder.classes_\n",
    "    )\n",
    "    plt.xlabel('Predicted')\n",
    "    plt.ylabel('True')\n",
    "    plt.title('Confusion Matrix')\n",
    "    plt.tight_layout()\n",
    "    plt.savefig('confusion_matrix.png')\n",
    "    plt.close()\n",
    "\n",
    "    # Plot accuracy and loss curves\n",
    "    plt.figure(figsize=(12, 5))\n",
    "    plt.subplot(1, 2, 1)\n",
    "    plt.plot(history.history['accuracy'])\n",
    "    plt.plot(history.history['val_accuracy'])\n",
    "    plt.title('Model Accuracy')\n",
    "    plt.ylabel('Accuracy')\n",
    "    plt.xlabel('Epoch')\n",
    "    plt.legend(['Train', 'Validation'], loc='lower right')\n",
    "\n",
    "    plt.subplot(1, 2, 2)\n",
    "    plt.plot(history.history['loss'])\n",
    "    plt.plot(history.history['val_loss'])\n",
    "    plt.title('Model Loss')\n",
    "    plt.ylabel('Loss')\n",
    "    plt.xlabel('Epoch')\n",
    "    plt.legend(['Train', 'Validation'], loc='upper right')\n",
    "\n",
    "    plt.tight_layout()\n",
    "    plt.savefig('training_history.png')\n",
    "    plt.close()"
   ],
   "id": "a96dbe9834ba517d",
   "outputs": [],
   "execution_count": 54
  },
  {
   "metadata": {
    "ExecuteTime": {
     "end_time": "2025-05-24T17:38:23.896124Z",
     "start_time": "2025-05-24T17:35:04.530669Z"
    }
   },
   "cell_type": "code",
   "source": [
    "# File path to your dataset\n",
    "#file_path = \"..\\\\data\\\\list_protein_sequences_embeddings.csv\"\n",
    "file_path_seq = \"..\\\\data\\\\family_classification_sequences.csv\"\n",
    "file_path_meta = \"..\\\\data\\\\family_classification_metadata.xlsx\"\n",
    "file_path_3grams = \"..\\\\data\\\\protVec_100d_3grams.csv\"\n",
    "\n",
    "# 1. Load and preprocess data\n",
    "X, y, label_encoder = load_data(file_path_seq, file_path_meta, file_path_3grams)"
   ],
   "id": "71d4a67f2ba47180",
   "outputs": [
    {
     "name": "stdout",
     "output_type": "stream",
     "text": [
      "Reading raw dataset files...\n"
     ]
    },
    {
     "name": "stderr",
     "output_type": "stream",
     "text": [
      "D:\\Universita\\Magistrale\\Deeplife\\Progetto\\protein-function-prediction\\.venv\\Lib\\site-packages\\openpyxl\\worksheet\\_reader.py:329: UserWarning: Unknown extension is not supported and will be removed\n",
      "  warn(msg)\n"
     ]
    },
    {
     "name": "stdout",
     "output_type": "stream",
     "text": [
      "Preprocessing data...\n",
      "['MMR_HSR1', 'ATP-synt_ab', '7tm_1', 'Helicase_C', 'tRNA-synt_1']\n",
      "                                                 sequence  label\n",
      "137318  AAAAAVSGAKRSLRAELKQRLRAISAEERLRCQRLLTQKVIAHRQY...  other\n",
      "288090  AAAAGDSAASDLLGDNILRSEDPPMSIDLTFHMLRNMIHMAKMEGE...  other\n",
      "251153                AAAAPGAAGGAQLPLGNRERKAGCKNFFWKTFSSC  other\n",
      "7525    AAAATQAVPAPNQQPEVFYNQIFINNEWHDAVSKKTFPTVNPSTGE...  other\n",
      "133640  AAAAVPRRGPRGGPGRSYTADAGYAPATPAAAGAAAGKATTEEQKL...  other\n",
      "(7797, 2) (230207, 2)\n",
      "Loaded 15594 protein sequences\n",
      "Number of unique families: 6\n",
      "Family distribution: [1639 1845 1287 1846 7797 1180]\n"
     ]
    }
   ],
   "execution_count": 55
  },
  {
   "metadata": {},
   "cell_type": "code",
   "source": [
    "# 2. Split the data into training, validation, and test sets\n",
    "X_train_val, X_test, y_train_val, y_test = train_test_split(\n",
    "    X, y, test_size=0.2, random_state=42, stratify=y, shuffle=True\n",
    ")\n",
    "\n",
    "X_train, X_val, y_train, y_val = train_test_split(\n",
    "    X_train_val, y_train_val, test_size=0.2, random_state=42, stratify=y_train_val, shuffle=True\n",
    ")"
   ],
   "id": "3b66c1fa08fc2a47",
   "outputs": [],
   "execution_count": null
  },
  {
   "metadata": {
    "ExecuteTime": {
     "end_time": "2025-05-24T17:17:07.375962Z",
     "start_time": "2025-05-24T17:17:07.369356Z"
    }
   },
   "cell_type": "code",
   "source": [
    "# 3. Determine suitable max_length for padding\n",
    "sequence_lengths = [len(seq) for seq in X_train]\n",
    "max_length = int(np.percentile(sequence_lengths, 95))  # 95th percentile\n",
    "print(f\"Max sequence length (95th percentile): {max_length}\")"
   ],
   "id": "8098e474627c9f50",
   "outputs": [],
   "execution_count": null
  },
  {
   "metadata": {},
   "cell_type": "code",
   "source": [
    "# 4. Pad sequences\n",
    "X_train_padded = pad_embedding_sequences(X_train, max_length)\n",
    "X_val_padded = pad_embedding_sequences(X_val, max_length)\n",
    "X_test_padded = pad_embedding_sequences(X_test, max_length)\n",
    "\n",
    "print(f\"Padded training data shape: {X_train_padded.shape}\")"
   ],
   "id": "9a662eb7714ab800",
   "outputs": [],
   "execution_count": null
  },
  {
   "metadata": {},
   "cell_type": "code",
   "source": [
    "# 5. Build the model\n",
    "embedding_dim = X_train[0].shape[1]  # Get embedding dimension from the data\n",
    "num_classes = len(np.unique(y))\n",
    "\n",
    "model = build_lstm_model(\n",
    "    input_shape=(max_length, embedding_dim),\n",
    "    num_classes=num_classes\n",
    ")\n",
    "\n",
    "model.summary()"
   ],
   "id": "304bc462c9be57d3",
   "outputs": [],
   "execution_count": null
  },
  {
   "metadata": {},
   "cell_type": "code",
   "source": [
    "# 6. Train the model\n",
    "history = train_model(\n",
    "    model, X_train_padded, y_train, X_val_padded, y_val,\n",
    "    batch_size=32,\n",
    "    epochs=50\n",
    ")"
   ],
   "id": "541d3c8b4c28d989",
   "outputs": [],
   "execution_count": null
  },
  {
   "metadata": {},
   "cell_type": "code",
   "source": [
    "# 7. Evaluate the model\n",
    "model.load_weights(\"best_model.h5\")\n",
    "evaluate_model(model, X_test_padded, y_test, label_encoder)\n",
    "\n",
    "# 8. Save the model\n",
    "model.save('protein_family_classifier_other.h5')\n",
    "print(\"Model saved as 'protein_family_classifier_other.h5'\")"
   ],
   "id": "1b35ba382fac8cd0",
   "outputs": [],
   "execution_count": null
  },
  {
   "metadata": {
    "ExecuteTime": {
     "end_time": "2025-05-22T21:20:34.912796Z",
     "start_time": "2025-05-22T21:20:34.899563Z"
    }
   },
   "cell_type": "code",
   "source": [
    "#dropout\n",
    "#dense\n",
    "#l2 reg"
   ],
   "id": "797f814a9fe0e94d",
   "outputs": [
    {
     "data": {
      "text/plain": [
       "array([[-0.104897,  0.014198, -0.053189, ...,  0.065978, -0.132549,\n",
       "         0.165701],\n",
       "       [-0.101278,  0.080609, -0.126381, ...,  0.008599,  0.066099,\n",
       "         0.112817],\n",
       "       [-0.132686,  0.073024, -0.226585, ..., -0.019128,  0.122064,\n",
       "         0.096697],\n",
       "       ...,\n",
       "       [ 0.      ,  0.      ,  0.      , ...,  0.      ,  0.      ,\n",
       "         0.      ],\n",
       "       [ 0.      ,  0.      ,  0.      , ...,  0.      ,  0.      ,\n",
       "         0.      ],\n",
       "       [ 0.      ,  0.      ,  0.      , ...,  0.      ,  0.      ,\n",
       "         0.      ]])"
      ]
     },
     "execution_count": 22,
     "metadata": {},
     "output_type": "execute_result"
    }
   ],
   "execution_count": 22
  },
  {
   "metadata": {},
   "cell_type": "code",
   "outputs": [],
   "execution_count": null,
   "source": "",
   "id": "d21a8cdc3e47fed2"
  }
 ],
 "metadata": {
  "kernelspec": {
   "display_name": "Python 3",
   "language": "python",
   "name": "python3"
  },
  "language_info": {
   "codemirror_mode": {
    "name": "ipython",
    "version": 3
   },
   "file_extension": ".py",
   "mimetype": "text/x-python",
   "name": "python",
   "nbconvert_exporter": "python",
   "pygments_lexer": "ipython3",
   "version": "3.11.9"
  }
 },
 "nbformat": 4,
 "nbformat_minor": 5
}
